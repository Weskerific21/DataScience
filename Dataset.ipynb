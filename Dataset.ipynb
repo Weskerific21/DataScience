{
 "cells": [
  {
   "cell_type": "code",
   "execution_count": 1,
   "metadata": {},
   "outputs": [],
   "source": [
    "import pandas as pd"
   ]
  },
  {
   "cell_type": "code",
   "execution_count": 2,
   "metadata": {},
   "outputs": [
    {
     "name": "stdout",
     "output_type": "stream",
     "text": [
      "                                                  Title      Channel Name  \\\n",
      "0     Tom & Jerry | New Year, Same Frenemies 🐱🐭 | Cl...           WB Kids   \n",
      "1     Tom & Jerry | Cozy Winter Nights ❄️🧣 | Classic...           WB Kids   \n",
      "2     Tom and Jerry Singapore Full Episodes | Cartoo...           WB Kids   \n",
      "3     Tom & Jerry | A Christmas Duel 🎄 | Holiday Hij...           WB Kids   \n",
      "4     Tom and Jerry Singapore Full Episodes (5-7) | ...           WB Kids   \n",
      "...                                                 ...               ...   \n",
      "1382  Tom and Jerry - Cemilan Malam Suatu Hari(The M...  MovieCon Animasi   \n",
      "1383  Tom and Jerry - Tom Kalah(Kitty Foiled, bahasa...  MovieCon Animasi   \n",
      "1384  Tom and Jerry - Satu Ronde Tusukan!(touche, pu...  MovieCon Animasi   \n",
      "1385  Tom and Jerry - Beruang yang Menari(down beat ...  MovieCon Animasi   \n",
      "1386  Tom and Jerry - Tom dan Cherie(bahasa indonesi...  MovieCon Animasi   \n",
      "\n",
      "              Published At                                        Description  \\\n",
      "0     2024-01-06T16:00:34Z  It's a brand new year, but nothing has changed...   \n",
      "1     2023-12-30T16:00:33Z  It's cold outside, the nights are long, and th...   \n",
      "2     2023-12-27T22:00:02Z  Join Tom and Jerry on a new adventure set in S...   \n",
      "3     2023-12-23T16:00:45Z  Just because it's Christmas, doesn't mean it's...   \n",
      "4     2023-12-20T22:00:17Z  Join Tom and Jerry on a new adventure set in S...   \n",
      "...                    ...                                                ...   \n",
      "1382  2022-07-29T04:52:24Z  By clicking on the link below, you can enjoy m...   \n",
      "1383  2022-07-25T04:27:13Z  By clicking on the link below, you can enjoy m...   \n",
      "1384  2022-10-20T09:42:07Z  Due to the YouTube policy, various contents of...   \n",
      "1385  2022-10-19T01:42:11Z  Due to the YouTube policy, various contents of...   \n",
      "1386  2022-07-27T07:50:31Z  By clicking on the link below, you can enjoy m...   \n",
      "\n",
      "     Video Duration                           Default Thumbnail URL  \\\n",
      "0          PT19M10S  https://i.ytimg.com/vi/p-FjIOBmoVI/default.jpg   \n",
      "1          PT15M13S  https://i.ytimg.com/vi/jUJ0BY0DFwg/default.jpg   \n",
      "2          PT24M11S  https://i.ytimg.com/vi/3YHO81QWQmU/default.jpg   \n",
      "3          PT14M58S  https://i.ytimg.com/vi/wvO2tljvh6A/default.jpg   \n",
      "4          PT10M32S  https://i.ytimg.com/vi/j3p1o4hKciU/default.jpg   \n",
      "...             ...                                             ...   \n",
      "1382         PT9M6S  https://i.ytimg.com/vi/2eyJrfQsJAI/default.jpg   \n",
      "1383        PT7M30S  https://i.ytimg.com/vi/7zkssZR7UFY/default.jpg   \n",
      "1384        PT6M43S  https://i.ytimg.com/vi/tWiHJ5AOTjs/default.jpg   \n",
      "1385        PT6M26S  https://i.ytimg.com/vi/RLQ-6XZD_rw/default.jpg   \n",
      "1386        PT6M40S  https://i.ytimg.com/vi/wqAwCobUHaM/default.jpg   \n",
      "\n",
      "                                                   Tags  View Count  \\\n",
      "0     ['Scooby-Doo!', 'Tom and Jerry', 'Looney Tunes...      879025   \n",
      "1     ['Scooby-Doo!', 'Tom and Jerry', 'Looney Tunes...      493516   \n",
      "2     ['Scooby-Doo!', 'Tom and Jerry', 'Looney Tunes...     7137876   \n",
      "3     ['Scooby-Doo!', 'Tom and Jerry', 'Looney Tunes...      156249   \n",
      "4     ['Scooby-Doo!', 'Tom and Jerry', 'Looney Tunes...     1419710   \n",
      "...                                                 ...         ...   \n",
      "1382                                                ---        5655   \n",
      "1383                                                ---        6110   \n",
      "1384                                                ---        3257   \n",
      "1385                                                ---        2853   \n",
      "1386                                                ---        5520   \n",
      "\n",
      "      Like Count  Favorite Count  \n",
      "0           3996               0  \n",
      "1           2356               0  \n",
      "2          32234               0  \n",
      "3           1079               0  \n",
      "4           5956               0  \n",
      "...          ...             ...  \n",
      "1382         164               0  \n",
      "1383         130               0  \n",
      "1384          95               0  \n",
      "1385          97               0  \n",
      "1386         153               0  \n",
      "\n",
      "[1387 rows x 10 columns]\n"
     ]
    }
   ],
   "source": [
    "#reading the csv using read_csv() method \n",
    "read_csv = pd.read_csv('the_tom_jerry.csv')\n",
    "print(read_csv)"
   ]
  },
  {
   "cell_type": "code",
   "execution_count": 6,
   "metadata": {},
   "outputs": [
    {
     "name": "stdout",
     "output_type": "stream",
     "text": [
      "\n",
      "Maximum 'View Count' value: 685950082\n"
     ]
    }
   ],
   "source": [
    "#First Case(Looking for the most viewed show in the dataset)\n",
    "#calling the column view count and use the idmax() function\n",
    "#we need to use the locate function to select the exact column that we need\n",
    "most_view = read_csv.loc[read_csv['View Count'].idxmax()]\n",
    "max_view_count = most_view['View Count']\n",
    "print(\"\\nMaximum 'View Count' value:\", max_view_count)\n"
   ]
  },
  {
   "cell_type": "code",
   "execution_count": 15,
   "metadata": {},
   "outputs": [
    {
     "name": "stdout",
     "output_type": "stream",
     "text": [
      "\n",
      "Oldest Episode:\n",
      "Video Code: PT8M1S \n",
      "Published At: 2015-05-28 08:03:41+00:00\n"
     ]
    }
   ],
   "source": [
    "#Second case(let's look for the earliest episode that has been released)\n",
    "\n",
    "#Convert the column to datetime using the to_date time function \n",
    "old_episode = read_csv['Published At'] = pd.to_datetime(read_csv['Published At'])\n",
    "\n",
    "#use the argmin function to locate which has the earliest date\n",
    "earliest_episode = read_csv['Published At'].argmin()\n",
    "\n",
    "#locate the corresponding row for the column that has the show that has released date \n",
    "oldest_episode = read_csv.loc[earliest_episode]\n",
    "\n",
    "#Extracting the Columns we need for the use case. \n",
    "episode_description = oldest_episode['Video Duration']\n",
    "episode_published_at = oldest_episode['Published At']\n",
    "\n",
    "print(\"\\nOldest Episode:\\nVideo Code:\", episode_description, \"\\nPublished At:\", episode_published_at)"
   ]
  }
 ],
 "metadata": {
  "kernelspec": {
   "display_name": "Python 3",
   "language": "python",
   "name": "python3"
  },
  "language_info": {
   "codemirror_mode": {
    "name": "ipython",
    "version": 3
   },
   "file_extension": ".py",
   "mimetype": "text/x-python",
   "name": "python",
   "nbconvert_exporter": "python",
   "pygments_lexer": "ipython3",
   "version": "3.11.0"
  }
 },
 "nbformat": 4,
 "nbformat_minor": 2
}
